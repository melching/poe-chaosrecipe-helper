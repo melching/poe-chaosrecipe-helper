{
 "cells": [
  {
   "source": [
    "# OUTDATED"
   ],
   "cell_type": "markdown",
   "metadata": {}
  },
  {
   "cell_type": "code",
   "execution_count": null,
   "metadata": {},
   "outputs": [],
   "source": [
    "import requests\n",
    "import numpy as np\n",
    "import os\n",
    "from win10toast import ToastNotifier"
   ]
  },
  {
   "cell_type": "code",
   "execution_count": null,
   "metadata": {},
   "outputs": [],
   "source": [
    "account_name=\"Schcream\"\n",
    "league=\"Heist\"\n",
    "poesessid = \"xyz\""
   ]
  },
  {
   "cell_type": "markdown",
   "metadata": {},
   "source": [
    "Get all tabs and get the index of the dump tab (By name)"
   ]
  },
  {
   "cell_type": "code",
   "execution_count": null,
   "metadata": {},
   "outputs": [],
   "source": [
    "tab_name = \"Dump\"\n",
    "url = \"https://www.pathofexile.com/character-window/get-stash-items\"\n",
    "cookies = {\"POESESSID\": poesessid}\n",
    "payload = {\"tabs\":1, \"league\": league, \"accountName\": account_name}"
   ]
  },
  {
   "cell_type": "code",
   "execution_count": null,
   "metadata": {},
   "outputs": [],
   "source": [
    "r = requests.get(url, params=payload, cookies=cookies).json()"
   ]
  },
  {
   "cell_type": "code",
   "execution_count": null,
   "metadata": {},
   "outputs": [],
   "source": [
    "for tab in r[\"tabs\"]:\n",
    "    if tab[\"n\"] == \"Dump\":\n",
    "        payload[\"tabIndex\"]=tab[\"i\"]\n",
    "        payload[\"tabs\"]=0\n",
    "        print(tab)"
   ]
  },
  {
   "cell_type": "code",
   "execution_count": null,
   "metadata": {},
   "outputs": [],
   "source": [
    "resp = requests.get(url, params=payload, cookies=cookies).json()"
   ]
  },
  {
   "cell_type": "code",
   "execution_count": null,
   "metadata": {},
   "outputs": [],
   "source": [
    "resp"
   ]
  },
  {
   "cell_type": "markdown",
   "metadata": {},
   "source": [
    "## Check for items"
   ]
  },
  {
   "cell_type": "code",
   "execution_count": null,
   "metadata": {},
   "outputs": [],
   "source": [
    "ring_bases = [\"Breach Ring\", \"Coral Ring\", \"Iron Ring\", \"Paua Ring\", \"Unset Ring\", \"Sapphire Ring\", \"Topaz Ring\", \"Ruby Ring\", \"Diamond Ring\", \"Gold Ring\", \"Moonstone Ring\",\"Two-Stone Ring\", \"Amethyst Ring\", \"Prismatic Ring\"]\n",
    "amulet_bases = [\"Coral Amulet\", \"Paua Amulet\", \"Amber Amulet\", \"Jade Amulet\", \"Lapis Amulet\", \"Gold Amulet\", \"Agate Amulet\", \"Citrine Amulet\", \"Turquoise Amulet\", \"Onyx Amulet\", \"Marble Amulet\", \"Blue Pearl Amulet\"]\n",
    "belt_bases = [\"Chain Belt\", \"Rustic Sash\", \"Stygian Vise\", \"Heavy Belt\", \"Leather Belt\", \"Cloth Belt\", \"Studded Belt\", \"Micro-Distillery Belt\", \"Vanguard Belt\", \"Crystal Belt\"]\n",
    "body_bases = ['Arena Plate', \"Assassin's Garb\", 'Astral Plate', 'Battle Lamellar', 'Battle Plate', 'Blood Raiment', 'Bone Armour', 'Bronze Plate', 'Buckskin Tunic', 'Cabalist Regalia', 'Carnal Armour', 'Chain Hauberk', 'Chainmail Doublet', 'Chainmail Tunic', 'Chainmail Vest', 'Chestplate', 'Colosseum Plate', 'Commander\\'s Brigandine', 'Conjurer\\'s Vestment', 'Conquest Chainmail', 'Copper Plate', 'Coronal Leather', 'Crimson Raiment', 'Crusader Chainmail', 'Crusader Plate', 'Crypt Armour', 'Cutthroat\\'s Garb', 'Desert Brigandine', 'Destiny Leather', 'Destroyer Regalia', 'Devout Chainmail', 'Dragonscale Doublet', 'Eelskin Tunic', 'Elegant Ringmail', 'Exquisite Leather', 'Field Lamellar', 'Frontier Leather', 'Full Chainmail', 'Full Dragonscale', 'Full Leather', 'Full Plate', 'Full Ringmail', 'Full Scale Armour', 'Full Wyrmscale', 'General\\'s Brigandine', 'Gladiator Plate', 'Glorious Leather', 'Glorious Plate', 'Golden Plate', 'Holy Chainmail', 'Hussar Brigandine', 'Infantry Brigandine', 'Lacquered Garb', 'Latticed Ringmail', 'Light Brigandine', 'Lordly Plate', 'Loricated Ringmail', 'Mage\\'s Vestment', 'Majestic Plate', 'Necromancer Silks', 'Occultist\\'s Vestment', 'Oiled Coat', 'Oiled Vest', 'Ornate Ringmail', 'Padded Jacket', 'Padded Vest', 'Plate Vest', 'Quilted Jacket', 'Ringmail Coat', 'Sacrificial Garb', 'Sadist Garb', 'Sage\\'s Robe', 'Saint\\'s Hauberk', 'Saintly Chainmail', 'Savant\\'s Robe', 'Scale Doublet', 'Scale Vest', 'Scarlet Raiment', 'Scholar\\'s Robe', 'Sentinel Jacket', 'Shabby Jerkin', 'Sharkskin Tunic', 'Silk Robe', 'Silken Garb', 'Silken Vest', 'Silken Wrap', 'Simple Robe', 'Sleek Coat', 'Soldier\\'s Brigandine', 'Spidersilk Robe', 'Strapped Leather', 'Sun Leather', 'Sun Plate', 'Thief\\'s Garb', 'Triumphant Lamellar', 'Vaal Regalia', 'Varnished Coat', 'War Plate', 'Waxed Garb', 'Widowsilk Robe', 'Wild Leather', 'Wyrmscale Doublet', 'Zodiac Leather']\n",
    "glove_bases = ['Ambush Mitts', 'Ancient Gauntlets', 'Antique Gauntlets', 'Arcanist Gloves', 'Assassin\\'s Mitts', 'Bronze Gauntlets', 'Bronzescale Gauntlets', 'Carnal Mitts', 'Chain Gloves', 'Clasped Mitts', 'Conjurer Gloves', 'Crusader Gloves', 'Deerskin Gloves', 'Dragonscale Gauntlets', 'Eelskin Gloves', 'Embroidered Gloves', 'Fingerless Silk Gloves', 'Fishscale Gauntlets', 'Goathide Gloves', 'Goliath Gauntlets', 'Gripped Gloves', 'Hydrascale Gauntlets', 'Iron Gauntlets', 'Ironscale Gauntlets', 'Legion Gloves', 'Mesh Gloves', 'Murder Mitts', 'Nubuck Gloves', 'Plated Gauntlets', 'Rawhide Gloves', 'Ringmail Gloves', 'Riveted Gloves', 'Samite Gloves', 'Satin Gloves', 'Serpentscale Gauntlets', 'Shagreen Gloves', 'Sharkskin Gloves', 'Silk Gloves', 'Slink Gloves', 'Soldier Gloves', 'Sorcerer Gloves', 'Spiked Gloves', 'Stealth Gloves', 'Steel Gauntlets', 'Steelscale Gauntlets', 'Strapped Mitts', 'Titan Gauntlets', 'Trapper Mitts', 'Vaal Gauntlets', 'Velvet Gloves', 'Wool Gloves', 'Wrapped Mitts', 'Wyrmscale Gauntlets', 'Zealot Gloves']\n",
    "boot_bases = ['Ambush Boots', 'Ancient Greaves', 'Antique Greaves', 'Arcanist Slippers', 'Assassin\\'s Boots', 'Bronzescale Boots', 'Carnal Boots', 'Chain Boots', 'Clasped Boots', 'Conjurer Boots', 'Crusader Boots', 'Deerskin Boots', 'Dragonscale Boots', 'Eelskin Boots', 'Goathide Boots', 'Goliath Greaves', 'Hydrascale Boots', 'Iron Greaves', 'Ironscale Boots', 'Leatherscale Boots', 'Legion Boots', 'Mesh Boots', 'Murder Boots', 'Nubuck Boots', 'Plated Greaves', 'Rawhide Boots', 'Reinforced Greaves', 'Ringmail Boots', 'Riveted Boots', 'Samite Slippers', 'Satin Slippers', 'Scholar Boots', 'Serpentscale Boots', 'Shackled Boots', 'Shagreen Boots', 'Sharkskin Boots', 'Silk Slippers', 'Slink Boots', 'Soldier Boots', 'Sorcerer Boots', 'Stealth Boots', 'Steel Greaves', 'Steelscale Boots', 'Strapped Boots', 'Titan Greaves', 'Trapper Boots', 'Two-Toned Boots (Cold and Lightning Resistance)', 'Two-Toned Boots (Fire and Cold Resistance)', 'Two-Toned Boots (Fire and Lightning Resistance)', 'Two-Toned Boots','Vaal Greaves', 'Velvet Slippers', 'Wool Shoes', 'Wrapped Boots', 'Wyrmscale Boots', 'Zealot Boots']\n",
    "helmet_bases = ['Aventail Helmet', 'Barbute Helmet', 'Battered Helm', 'Bone Circlet', 'Bone Helmet', 'Callous Mask', 'Close Helmet', 'Cone Helmet', 'Crusader Helmet', 'Deicide Mask', 'Eternal Burgonet', 'Ezomyte Burgonet', 'Fencer Helm', 'Festival Mask', 'Fluted Bascinet', 'Gilded Sallet', 'Gladiator Helmet', 'Golden Mask', 'Great Crown', 'Great Helmet', 'Harlequin Mask', 'Hubris Circlet', 'Hunter Hood', 'Iron Circlet', 'Iron Hat', 'Iron Mask', 'Lacquered Helmet', 'Leather Cap', 'Leather Hood', 'Lion Pelt', 'Lunaris Circlet', 'Magistrate Crown', 'Mind Cage', 'Necromancer Circlet', 'Nightmare Bascinet', 'Noble Tricorne', 'Pig-Faced Bascinet', 'Plague Mask', 'Praetor Crown', 'Prophet Crown', 'Raven Mask', 'Reaver Helmet', 'Regicide Mask', 'Royal Burgonet', 'Rusted Coif', 'Sallet', 'Samite Helmet', 'Scare Mask', 'Secutor Helm', 'Siege Helmet', 'Silken Hood', 'Sinner Tricorne', 'Solaris Circlet', 'Soldier Helmet', 'Steel Circlet', 'Torture Cage', 'Tribal Circlet', 'Tricorne', 'Ursine Pelt', 'Vaal Mask', 'Vine Circlet', 'Visored Sallet', 'Wolf Pelt', 'Zealot Helmet']\n",
    "\n",
    "claw_bases = ['Awl', 'Blinder', 'Cat\\'s Paw', 'Double Claw', 'Eagle Claw', 'Eye Gouger', 'Fright Claw', 'Gemini Claw', 'Gouger', 'Great White Claw', 'Gut Ripper', 'Hellion\\'s Paw', 'Imperial Claw', 'Malign Fangs', 'Nailed Fist', 'Noble Claw', 'Prehistoric Claw', 'Shadow Fangs', 'Sharktooth Claw', 'Sparkling Claw', 'Terror Claw', 'Thresher Claw', 'Throat Stabber', 'Tiger\\'s Paw', 'Timeworn Claw', 'Twin Claw', 'Vaal Claw', 'Void Fangs']\n",
    "dagger_bases = ['Ambusher', 'Boot Blade', 'Boot Knife', 'Butcher Knife', 'Carving Knife', 'Copper Kris', 'Demon Dagger', 'Ezomyte Dagger', 'Fiend Dagger', 'Flashfire Blade', 'Flaying Knife', 'Flickerflame Blade', 'Glass Shank', 'Golden Kris', 'Gutting Knife', 'Hollowpoint Dagger', 'Imp Dagger', 'Imperial Skean', 'Infernal Blade', 'Platinum Kris', 'Pneumatic Dagger', 'Poignard', 'Pressurised Dagger', 'Prong Dagger', 'Royal Skean', 'Sai', 'Skean', 'Skinning Knife', 'Slaughter Knife', 'Stiletto', 'Trisula']\n",
    "wand_bases = ['Accumulator Wand', 'Assembler Wand', 'Carved Wand', 'Congregator Wand', 'Convoking Wand', 'Crystal Wand', \"Demon's Horn\", 'Driftwood Wand', 'Engraved Wand', \"Faun's Horn\", \"Goat's Horn\", 'Heathen Wand', 'Imbued Wand', 'Omen Wand', 'Opal Wand', 'Pagan Wand', 'Profane Wand', 'Prophecy Wand', 'Quartz Wand', 'Sage Wand', 'Serpent Wand', 'Spiraled Wand', 'Tornado Wand']\n",
    "sword_bases = [\"Corsair Sword\", \"Gemstone Sword\", \"Cutlass\", \"Variscite Blade\", \"Sabre\", \"Copper Sword\", \"Rusted Sword\"]\n",
    "\n",
    "bases = {\n",
    "    \"rings\": ring_bases,\n",
    "    \"amulets\": amulet_bases,\n",
    "    \"belts\": belt_bases,\n",
    "    \"body_armour\": body_bases,\n",
    "    \"gloves\": glove_bases,\n",
    "    \"boots\": boot_bases,\n",
    "    \"helmets\": helmet_bases,\n",
    "    \n",
    "    \"weapons\": claw_bases + dagger_bases + wand_bases + sword_bases\n",
    "}"
   ]
  },
  {
   "cell_type": "code",
   "execution_count": null,
   "metadata": {},
   "outputs": [],
   "source": [
    "res = {}\n",
    "for name in bases:\n",
    "    res[name] = 0"
   ]
  },
  {
   "cell_type": "code",
   "execution_count": null,
   "metadata": {},
   "outputs": [],
   "source": [
    "print(\"Number of items in tab:\", len(resp[\"items\"]))\n",
    "for item in resp[\"items\"]:\n",
    "    if item[\"ilvl\"] >= 60 and item[\"ilvl\"] <= 74:\n",
    "        itembase = item[\"typeLine\"]\n",
    "        \n",
    "        for name in bases:\n",
    "            if itembase in bases[name]:\n",
    "                res[name] += 1\n",
    "                break\n",
    "\n",
    "print(res)"
   ]
  },
  {
   "cell_type": "markdown",
   "metadata": {},
   "source": [
    "## modify filter based on quantity of items"
   ]
  },
  {
   "cell_type": "code",
   "execution_count": null,
   "metadata": {},
   "outputs": [],
   "source": [
    "# define strings for items in filter\n",
    "\n",
    "head = \"Show # ChaosRecipeMod\\n\"\n",
    "tail = \"\\n\\\n",
    "    ItemLevel <= 74\\n\\\n",
    "    ItemLevel >= 60\\n\\\n",
    "    PlayAlertSound 16 250\\n\\\n",
    "    Identified False\\n\\\n",
    "    HasInfluence None\\n\\\n",
    "    Rarity Rare\\n\\\n",
    "    SetFontSize 45\\n\\\n",
    "    SetBorderColor 0 0 0 255\\n\\\n",
    "    SetBackgroundColor 255 0 0 255\\n\\\n",
    "    MinimapIcon 2 Orange Kite\\n\\n\"\n",
    "\n",
    "str_ring = head + \"\\\n",
    "    Class Ring\\\n",
    "\" + tail\n",
    "\n",
    "str_amulet = head + \"\\\n",
    "    Class Amulet\\\n",
    "\" + tail\n",
    "\n",
    "str_belt = head + \"\\\n",
    "    Class Belt\\\n",
    "\" + tail\n",
    "\n",
    "str_glove = head + \"\\\n",
    "    Class Glove\\\n",
    "\" + tail\n",
    "\n",
    "str_boot = head + \"\\\n",
    "    Class Boot\\\n",
    "\" + tail\n",
    "\n",
    "str_body = head + \"\\\n",
    "    Class \\\"Body Armour\\\"\\\n",
    "\" + tail\n",
    "\n",
    "str_helmet = head + \"\\\n",
    "    Class Helmet\\\n",
    "\" + tail\n",
    "\n",
    "str_weapon1 = head + \"\\\n",
    "    Class \\\"Claw\\\" \\\"Dagger\\\" \\\"Wand\\\"\\\n",
    "\" + tail\n",
    "\n",
    "str_weapon2 = head + \"\\\n",
    "    Class \\\"One Handed Sword\\\"\\n\\\n",
    "    Width < 2\\\n",
    "\" + tail\n",
    "\n",
    "\n",
    "filter_strings = {\n",
    "    \"rings\": str_ring,\n",
    "    \"amulets\": str_amulet,\n",
    "    \"belts\": str_belt,\n",
    "    \"body_armour\": str_body,\n",
    "    \"gloves\": str_glove,\n",
    "    \"boots\": str_boot,\n",
    "    \"helmets\": str_helmet,\n",
    "    \"weapons\": str_weapon1+str_weapon2\n",
    "}"
   ]
  },
  {
   "cell_type": "code",
   "execution_count": null,
   "metadata": {},
   "outputs": [],
   "source": [
    "num_thresh = 5\n",
    "filter_path = r\"C:\\Users\\chris\\Documents\\My Games\\Path of Exile\\FilterBlade.filter\"\n",
    "\n",
    "str_to_filter = \"\"\n",
    "split_helper = \"#imjustalinetohelptosplitthefileproperlyjustignoreme\"\n",
    "\n",
    "for name in res:\n",
    "    if res[name] < num_thresh:\n",
    "        str_to_filter += filter_strings[name]\n",
    "        \n",
    "if res[\"rings\"] >= num_thresh and res[\"rings\"] < num_thresh*2:\n",
    "    str_to_filter += filter_strings[\"rings\"]\n",
    "    \n",
    "str_to_filter += \"\\n\" + split_helper"
   ]
  },
  {
   "cell_type": "code",
   "execution_count": null,
   "metadata": {},
   "outputs": [],
   "source": [
    "print(str_to_filter)"
   ]
  },
  {
   "cell_type": "code",
   "execution_count": null,
   "metadata": {},
   "outputs": [],
   "source": [
    "with open(filter_path, 'r+') as f:\n",
    "    content = f.read()\n",
    "    \n",
    "    parts = content.split(split_helper)\n",
    "    if parts[0] + split_helper == str_to_filter:\n",
    "        pass\n",
    "    else:\n",
    "        f.seek(0, 0)\n",
    "        f.write(str_to_filter + parts[-1])\n",
    "        toaster = ToastNotifier()\n",
    "        toaster.show_toast(\"Updated Filter!\",\"Dont forget to refresh the filter on the options menu.\")"
   ]
  },
  {
   "cell_type": "code",
   "execution_count": null,
   "metadata": {},
   "outputs": [],
   "source": [
    "\n"
   ]
  },
  {
   "cell_type": "code",
   "execution_count": null,
   "metadata": {},
   "outputs": [],
   "source": []
  }
 ],
 "metadata": {
  "kernelspec": {
   "name": "Python 3.7.9 64-bit ('poe-chaos-filter': conda)",
   "display_name": "Python 3.7.9 64-bit ('poe-chaos-filter': conda)",
   "metadata": {
    "interpreter": {
     "hash": "0e50f208fc0805e29f3e302a294ba4b856fc18f7f950c97ad1ef04d1e5e2b25a"
    }
   }
  },
  "language_info": {
   "codemirror_mode": {
    "name": "ipython",
    "version": 3
   },
   "file_extension": ".py",
   "mimetype": "text/x-python",
   "name": "python",
   "nbconvert_exporter": "python",
   "pygments_lexer": "ipython3",
   "version": "3.7.9-final"
  }
 },
 "nbformat": 4,
 "nbformat_minor": 2
}